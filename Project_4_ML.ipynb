{
  "cells": [
    {
      "cell_type": "markdown",
      "metadata": {
        "id": "view-in-github",
        "colab_type": "text"
      },
      "source": [
        "<a href=\"https://colab.research.google.com/github/Alevtina529/test/blob/main/Project_4_ML.ipynb\" target=\"_parent\"><img src=\"https://colab.research.google.com/assets/colab-badge.svg\" alt=\"Open In Colab\"/></a>"
      ]
    },
    {
      "cell_type": "markdown",
      "id": "c353de9a",
      "metadata": {
        "id": "c353de9a"
      },
      "source": [
        "# Проект: классификация"
      ]
    },
    {
      "cell_type": "code",
      "execution_count": 1,
      "id": "4a6e54dc",
      "metadata": {
        "id": "4a6e54dc"
      },
      "outputs": [],
      "source": [
        "import pandas as pd\n",
        "import numpy as np\n",
        "import matplotlib.pyplot as plt\n",
        "import seaborn as sns\n",
        "from  sklearn.ensemble import IsolationForest\n",
        "import warnings\n",
        "warnings.filterwarnings('ignore')\n",
        "from sklearn.preprocessing  import LabelEncoder\n",
        "from sklearn import linear_model\n",
        "from sklearn import tree\n",
        "from sklearn import ensemble\n",
        "from sklearn import metrics\n",
        "from sklearn import preprocessing\n",
        "from sklearn.model_selection import train_test_split\n",
        "from sklearn.feature_selection import SelectKBest, f_classif"
      ]
    },
    {
      "cell_type": "markdown",
      "id": "71559b60",
      "metadata": {
        "id": "71559b60"
      },
      "source": [
        "## Часть 1. Знакомство с данными, обработка пропусков и выбросов"
      ]
    },
    {
      "cell_type": "markdown",
      "id": "7c5e31b2",
      "metadata": {
        "id": "7c5e31b2"
      },
      "source": [
        "### Задание 1"
      ]
    },
    {
      "cell_type": "code",
      "source": [
        "from google.colab import drive\n",
        "drive.mount('/content/drive')"
      ],
      "metadata": {
        "colab": {
          "base_uri": "https://localhost:8080/"
        },
        "id": "X_i6iY--9M-D",
        "outputId": "101651a3-6a56-4846-dd8f-881864bf3dea"
      },
      "id": "X_i6iY--9M-D",
      "execution_count": 2,
      "outputs": [
        {
          "output_type": "stream",
          "name": "stdout",
          "text": [
            "Mounted at /content/drive\n"
          ]
        }
      ]
    },
    {
      "cell_type": "code",
      "source": [
        "cvs_f='/content/drive/MyDrive/Colab/dataset/bank_fin.csv'\n",
        "df = pd.read_csv(cvs_f, sep = ';')"
      ],
      "metadata": {
        "id": "2Ljzr5bS9Zc1"
      },
      "id": "2Ljzr5bS9Zc1",
      "execution_count": 3,
      "outputs": []
    },
    {
      "cell_type": "code",
      "source": [
        "df.head()"
      ],
      "metadata": {
        "colab": {
          "base_uri": "https://localhost:8080/",
          "height": 206
        },
        "id": "KLitYxMM9tAQ",
        "outputId": "caf5eefc-f1ff-436e-dc03-502b8de18493"
      },
      "id": "KLitYxMM9tAQ",
      "execution_count": 4,
      "outputs": [
        {
          "output_type": "execute_result",
          "data": {
            "text/plain": [
              "   age         job  marital  education default       balance housing loan  \\\n",
              "0   59      admin.  married  secondary      no   2 343,00 $      yes   no   \n",
              "1   56      admin.  married  secondary      no      45,00 $       no   no   \n",
              "2   41  technician  married  secondary      no   1 270,00 $      yes   no   \n",
              "3   55    services  married  secondary      no   2 476,00 $      yes   no   \n",
              "4   54      admin.  married   tertiary      no     184,00 $       no   no   \n",
              "\n",
              "   contact  day month  duration  campaign  pdays  previous poutcome deposit  \n",
              "0  unknown    5   may      1042         1     -1         0  unknown     yes  \n",
              "1  unknown    5   may      1467         1     -1         0  unknown     yes  \n",
              "2  unknown    5   may      1389         1     -1         0  unknown     yes  \n",
              "3  unknown    5   may       579         1     -1         0  unknown     yes  \n",
              "4  unknown    5   may       673         2     -1         0  unknown     yes  "
            ],
            "text/html": [
              "\n",
              "  <div id=\"df-55d6c306-b6eb-4cb1-be6a-4a9d324ad694\" class=\"colab-df-container\">\n",
              "    <div>\n",
              "<style scoped>\n",
              "    .dataframe tbody tr th:only-of-type {\n",
              "        vertical-align: middle;\n",
              "    }\n",
              "\n",
              "    .dataframe tbody tr th {\n",
              "        vertical-align: top;\n",
              "    }\n",
              "\n",
              "    .dataframe thead th {\n",
              "        text-align: right;\n",
              "    }\n",
              "</style>\n",
              "<table border=\"1\" class=\"dataframe\">\n",
              "  <thead>\n",
              "    <tr style=\"text-align: right;\">\n",
              "      <th></th>\n",
              "      <th>age</th>\n",
              "      <th>job</th>\n",
              "      <th>marital</th>\n",
              "      <th>education</th>\n",
              "      <th>default</th>\n",
              "      <th>balance</th>\n",
              "      <th>housing</th>\n",
              "      <th>loan</th>\n",
              "      <th>contact</th>\n",
              "      <th>day</th>\n",
              "      <th>month</th>\n",
              "      <th>duration</th>\n",
              "      <th>campaign</th>\n",
              "      <th>pdays</th>\n",
              "      <th>previous</th>\n",
              "      <th>poutcome</th>\n",
              "      <th>deposit</th>\n",
              "    </tr>\n",
              "  </thead>\n",
              "  <tbody>\n",
              "    <tr>\n",
              "      <th>0</th>\n",
              "      <td>59</td>\n",
              "      <td>admin.</td>\n",
              "      <td>married</td>\n",
              "      <td>secondary</td>\n",
              "      <td>no</td>\n",
              "      <td>2 343,00 $</td>\n",
              "      <td>yes</td>\n",
              "      <td>no</td>\n",
              "      <td>unknown</td>\n",
              "      <td>5</td>\n",
              "      <td>may</td>\n",
              "      <td>1042</td>\n",
              "      <td>1</td>\n",
              "      <td>-1</td>\n",
              "      <td>0</td>\n",
              "      <td>unknown</td>\n",
              "      <td>yes</td>\n",
              "    </tr>\n",
              "    <tr>\n",
              "      <th>1</th>\n",
              "      <td>56</td>\n",
              "      <td>admin.</td>\n",
              "      <td>married</td>\n",
              "      <td>secondary</td>\n",
              "      <td>no</td>\n",
              "      <td>45,00 $</td>\n",
              "      <td>no</td>\n",
              "      <td>no</td>\n",
              "      <td>unknown</td>\n",
              "      <td>5</td>\n",
              "      <td>may</td>\n",
              "      <td>1467</td>\n",
              "      <td>1</td>\n",
              "      <td>-1</td>\n",
              "      <td>0</td>\n",
              "      <td>unknown</td>\n",
              "      <td>yes</td>\n",
              "    </tr>\n",
              "    <tr>\n",
              "      <th>2</th>\n",
              "      <td>41</td>\n",
              "      <td>technician</td>\n",
              "      <td>married</td>\n",
              "      <td>secondary</td>\n",
              "      <td>no</td>\n",
              "      <td>1 270,00 $</td>\n",
              "      <td>yes</td>\n",
              "      <td>no</td>\n",
              "      <td>unknown</td>\n",
              "      <td>5</td>\n",
              "      <td>may</td>\n",
              "      <td>1389</td>\n",
              "      <td>1</td>\n",
              "      <td>-1</td>\n",
              "      <td>0</td>\n",
              "      <td>unknown</td>\n",
              "      <td>yes</td>\n",
              "    </tr>\n",
              "    <tr>\n",
              "      <th>3</th>\n",
              "      <td>55</td>\n",
              "      <td>services</td>\n",
              "      <td>married</td>\n",
              "      <td>secondary</td>\n",
              "      <td>no</td>\n",
              "      <td>2 476,00 $</td>\n",
              "      <td>yes</td>\n",
              "      <td>no</td>\n",
              "      <td>unknown</td>\n",
              "      <td>5</td>\n",
              "      <td>may</td>\n",
              "      <td>579</td>\n",
              "      <td>1</td>\n",
              "      <td>-1</td>\n",
              "      <td>0</td>\n",
              "      <td>unknown</td>\n",
              "      <td>yes</td>\n",
              "    </tr>\n",
              "    <tr>\n",
              "      <th>4</th>\n",
              "      <td>54</td>\n",
              "      <td>admin.</td>\n",
              "      <td>married</td>\n",
              "      <td>tertiary</td>\n",
              "      <td>no</td>\n",
              "      <td>184,00 $</td>\n",
              "      <td>no</td>\n",
              "      <td>no</td>\n",
              "      <td>unknown</td>\n",
              "      <td>5</td>\n",
              "      <td>may</td>\n",
              "      <td>673</td>\n",
              "      <td>2</td>\n",
              "      <td>-1</td>\n",
              "      <td>0</td>\n",
              "      <td>unknown</td>\n",
              "      <td>yes</td>\n",
              "    </tr>\n",
              "  </tbody>\n",
              "</table>\n",
              "</div>\n",
              "    <div class=\"colab-df-buttons\">\n",
              "\n",
              "  <div class=\"colab-df-container\">\n",
              "    <button class=\"colab-df-convert\" onclick=\"convertToInteractive('df-55d6c306-b6eb-4cb1-be6a-4a9d324ad694')\"\n",
              "            title=\"Convert this dataframe to an interactive table.\"\n",
              "            style=\"display:none;\">\n",
              "\n",
              "  <svg xmlns=\"http://www.w3.org/2000/svg\" height=\"24px\" viewBox=\"0 -960 960 960\">\n",
              "    <path d=\"M120-120v-720h720v720H120Zm60-500h600v-160H180v160Zm220 220h160v-160H400v160Zm0 220h160v-160H400v160ZM180-400h160v-160H180v160Zm440 0h160v-160H620v160ZM180-180h160v-160H180v160Zm440 0h160v-160H620v160Z\"/>\n",
              "  </svg>\n",
              "    </button>\n",
              "\n",
              "  <style>\n",
              "    .colab-df-container {\n",
              "      display:flex;\n",
              "      gap: 12px;\n",
              "    }\n",
              "\n",
              "    .colab-df-convert {\n",
              "      background-color: #E8F0FE;\n",
              "      border: none;\n",
              "      border-radius: 50%;\n",
              "      cursor: pointer;\n",
              "      display: none;\n",
              "      fill: #1967D2;\n",
              "      height: 32px;\n",
              "      padding: 0 0 0 0;\n",
              "      width: 32px;\n",
              "    }\n",
              "\n",
              "    .colab-df-convert:hover {\n",
              "      background-color: #E2EBFA;\n",
              "      box-shadow: 0px 1px 2px rgba(60, 64, 67, 0.3), 0px 1px 3px 1px rgba(60, 64, 67, 0.15);\n",
              "      fill: #174EA6;\n",
              "    }\n",
              "\n",
              "    .colab-df-buttons div {\n",
              "      margin-bottom: 4px;\n",
              "    }\n",
              "\n",
              "    [theme=dark] .colab-df-convert {\n",
              "      background-color: #3B4455;\n",
              "      fill: #D2E3FC;\n",
              "    }\n",
              "\n",
              "    [theme=dark] .colab-df-convert:hover {\n",
              "      background-color: #434B5C;\n",
              "      box-shadow: 0px 1px 3px 1px rgba(0, 0, 0, 0.15);\n",
              "      filter: drop-shadow(0px 1px 2px rgba(0, 0, 0, 0.3));\n",
              "      fill: #FFFFFF;\n",
              "    }\n",
              "  </style>\n",
              "\n",
              "    <script>\n",
              "      const buttonEl =\n",
              "        document.querySelector('#df-55d6c306-b6eb-4cb1-be6a-4a9d324ad694 button.colab-df-convert');\n",
              "      buttonEl.style.display =\n",
              "        google.colab.kernel.accessAllowed ? 'block' : 'none';\n",
              "\n",
              "      async function convertToInteractive(key) {\n",
              "        const element = document.querySelector('#df-55d6c306-b6eb-4cb1-be6a-4a9d324ad694');\n",
              "        const dataTable =\n",
              "          await google.colab.kernel.invokeFunction('convertToInteractive',\n",
              "                                                    [key], {});\n",
              "        if (!dataTable) return;\n",
              "\n",
              "        const docLinkHtml = 'Like what you see? Visit the ' +\n",
              "          '<a target=\"_blank\" href=https://colab.research.google.com/notebooks/data_table.ipynb>data table notebook</a>'\n",
              "          + ' to learn more about interactive tables.';\n",
              "        element.innerHTML = '';\n",
              "        dataTable['output_type'] = 'display_data';\n",
              "        await google.colab.output.renderOutput(dataTable, element);\n",
              "        const docLink = document.createElement('div');\n",
              "        docLink.innerHTML = docLinkHtml;\n",
              "        element.appendChild(docLink);\n",
              "      }\n",
              "    </script>\n",
              "  </div>\n",
              "\n",
              "\n",
              "<div id=\"df-b10f1e4d-6639-4453-a482-26804e4df0d7\">\n",
              "  <button class=\"colab-df-quickchart\" onclick=\"quickchart('df-b10f1e4d-6639-4453-a482-26804e4df0d7')\"\n",
              "            title=\"Suggest charts.\"\n",
              "            style=\"display:none;\">\n",
              "\n",
              "<svg xmlns=\"http://www.w3.org/2000/svg\" height=\"24px\"viewBox=\"0 0 24 24\"\n",
              "     width=\"24px\">\n",
              "    <g>\n",
              "        <path d=\"M19 3H5c-1.1 0-2 .9-2 2v14c0 1.1.9 2 2 2h14c1.1 0 2-.9 2-2V5c0-1.1-.9-2-2-2zM9 17H7v-7h2v7zm4 0h-2V7h2v10zm4 0h-2v-4h2v4z\"/>\n",
              "    </g>\n",
              "</svg>\n",
              "  </button>\n",
              "\n",
              "<style>\n",
              "  .colab-df-quickchart {\n",
              "      --bg-color: #E8F0FE;\n",
              "      --fill-color: #1967D2;\n",
              "      --hover-bg-color: #E2EBFA;\n",
              "      --hover-fill-color: #174EA6;\n",
              "      --disabled-fill-color: #AAA;\n",
              "      --disabled-bg-color: #DDD;\n",
              "  }\n",
              "\n",
              "  [theme=dark] .colab-df-quickchart {\n",
              "      --bg-color: #3B4455;\n",
              "      --fill-color: #D2E3FC;\n",
              "      --hover-bg-color: #434B5C;\n",
              "      --hover-fill-color: #FFFFFF;\n",
              "      --disabled-bg-color: #3B4455;\n",
              "      --disabled-fill-color: #666;\n",
              "  }\n",
              "\n",
              "  .colab-df-quickchart {\n",
              "    background-color: var(--bg-color);\n",
              "    border: none;\n",
              "    border-radius: 50%;\n",
              "    cursor: pointer;\n",
              "    display: none;\n",
              "    fill: var(--fill-color);\n",
              "    height: 32px;\n",
              "    padding: 0;\n",
              "    width: 32px;\n",
              "  }\n",
              "\n",
              "  .colab-df-quickchart:hover {\n",
              "    background-color: var(--hover-bg-color);\n",
              "    box-shadow: 0 1px 2px rgba(60, 64, 67, 0.3), 0 1px 3px 1px rgba(60, 64, 67, 0.15);\n",
              "    fill: var(--button-hover-fill-color);\n",
              "  }\n",
              "\n",
              "  .colab-df-quickchart-complete:disabled,\n",
              "  .colab-df-quickchart-complete:disabled:hover {\n",
              "    background-color: var(--disabled-bg-color);\n",
              "    fill: var(--disabled-fill-color);\n",
              "    box-shadow: none;\n",
              "  }\n",
              "\n",
              "  .colab-df-spinner {\n",
              "    border: 2px solid var(--fill-color);\n",
              "    border-color: transparent;\n",
              "    border-bottom-color: var(--fill-color);\n",
              "    animation:\n",
              "      spin 1s steps(1) infinite;\n",
              "  }\n",
              "\n",
              "  @keyframes spin {\n",
              "    0% {\n",
              "      border-color: transparent;\n",
              "      border-bottom-color: var(--fill-color);\n",
              "      border-left-color: var(--fill-color);\n",
              "    }\n",
              "    20% {\n",
              "      border-color: transparent;\n",
              "      border-left-color: var(--fill-color);\n",
              "      border-top-color: var(--fill-color);\n",
              "    }\n",
              "    30% {\n",
              "      border-color: transparent;\n",
              "      border-left-color: var(--fill-color);\n",
              "      border-top-color: var(--fill-color);\n",
              "      border-right-color: var(--fill-color);\n",
              "    }\n",
              "    40% {\n",
              "      border-color: transparent;\n",
              "      border-right-color: var(--fill-color);\n",
              "      border-top-color: var(--fill-color);\n",
              "    }\n",
              "    60% {\n",
              "      border-color: transparent;\n",
              "      border-right-color: var(--fill-color);\n",
              "    }\n",
              "    80% {\n",
              "      border-color: transparent;\n",
              "      border-right-color: var(--fill-color);\n",
              "      border-bottom-color: var(--fill-color);\n",
              "    }\n",
              "    90% {\n",
              "      border-color: transparent;\n",
              "      border-bottom-color: var(--fill-color);\n",
              "    }\n",
              "  }\n",
              "</style>\n",
              "\n",
              "  <script>\n",
              "    async function quickchart(key) {\n",
              "      const quickchartButtonEl =\n",
              "        document.querySelector('#' + key + ' button');\n",
              "      quickchartButtonEl.disabled = true;  // To prevent multiple clicks.\n",
              "      quickchartButtonEl.classList.add('colab-df-spinner');\n",
              "      try {\n",
              "        const charts = await google.colab.kernel.invokeFunction(\n",
              "            'suggestCharts', [key], {});\n",
              "      } catch (error) {\n",
              "        console.error('Error during call to suggestCharts:', error);\n",
              "      }\n",
              "      quickchartButtonEl.classList.remove('colab-df-spinner');\n",
              "      quickchartButtonEl.classList.add('colab-df-quickchart-complete');\n",
              "    }\n",
              "    (() => {\n",
              "      let quickchartButtonEl =\n",
              "        document.querySelector('#df-b10f1e4d-6639-4453-a482-26804e4df0d7 button');\n",
              "      quickchartButtonEl.style.display =\n",
              "        google.colab.kernel.accessAllowed ? 'block' : 'none';\n",
              "    })();\n",
              "  </script>\n",
              "</div>\n",
              "    </div>\n",
              "  </div>\n"
            ]
          },
          "metadata": {},
          "execution_count": 4
        }
      ]
    },
    {
      "cell_type": "code",
      "execution_count": null,
      "id": "ba11dc67",
      "metadata": {
        "id": "ba11dc67"
      },
      "outputs": [],
      "source": [
        "# исследуйте данные на предмет пропусков. Где есть пропущенные значения? Сколько их?\n",
        "# ваш код"
      ]
    },
    {
      "cell_type": "code",
      "source": [
        "df.info()"
      ],
      "metadata": {
        "colab": {
          "base_uri": "https://localhost:8080/"
        },
        "id": "P_PH84ap9kxo",
        "outputId": "8f6c7b74-932b-4064-caa4-4de5b36d0b96"
      },
      "id": "P_PH84ap9kxo",
      "execution_count": 5,
      "outputs": [
        {
          "output_type": "stream",
          "name": "stdout",
          "text": [
            "<class 'pandas.core.frame.DataFrame'>\n",
            "RangeIndex: 11162 entries, 0 to 11161\n",
            "Data columns (total 17 columns):\n",
            " #   Column     Non-Null Count  Dtype \n",
            "---  ------     --------------  ----- \n",
            " 0   age        11162 non-null  int64 \n",
            " 1   job        11162 non-null  object\n",
            " 2   marital    11162 non-null  object\n",
            " 3   education  11162 non-null  object\n",
            " 4   default    11162 non-null  object\n",
            " 5   balance    11137 non-null  object\n",
            " 6   housing    11162 non-null  object\n",
            " 7   loan       11162 non-null  object\n",
            " 8   contact    11162 non-null  object\n",
            " 9   day        11162 non-null  int64 \n",
            " 10  month      11162 non-null  object\n",
            " 11  duration   11162 non-null  int64 \n",
            " 12  campaign   11162 non-null  int64 \n",
            " 13  pdays      11162 non-null  int64 \n",
            " 14  previous   11162 non-null  int64 \n",
            " 15  poutcome   11162 non-null  object\n",
            " 16  deposit    11162 non-null  object\n",
            "dtypes: int64(6), object(11)\n",
            "memory usage: 1.4+ MB\n"
          ]
        }
      ]
    },
    {
      "cell_type": "markdown",
      "id": "6366f059",
      "metadata": {
        "id": "6366f059"
      },
      "source": [
        "### Задание 2"
      ]
    },
    {
      "cell_type": "code",
      "execution_count": null,
      "id": "98ea29d4",
      "metadata": {
        "id": "98ea29d4"
      },
      "outputs": [],
      "source": [
        "# есть ли в признаке job пропущенные значения? Возможно, они обозначены каким-то специальным словом?\n",
        "# ваш код"
      ]
    },
    {
      "cell_type": "code",
      "source": [
        "df['job'].value_counts()"
      ],
      "metadata": {
        "colab": {
          "base_uri": "https://localhost:8080/"
        },
        "id": "qBY_2-w7-NhC",
        "outputId": "3f2cb821-2a04-4136-c57b-bdcce3195f59"
      },
      "id": "qBY_2-w7-NhC",
      "execution_count": 6,
      "outputs": [
        {
          "output_type": "execute_result",
          "data": {
            "text/plain": [
              "management       2566\n",
              "blue-collar      1944\n",
              "technician       1823\n",
              "admin.           1334\n",
              "services          923\n",
              "retired           778\n",
              "self-employed     405\n",
              "student           360\n",
              "unemployed        357\n",
              "entrepreneur      328\n",
              "housemaid         274\n",
              "unknown            70\n",
              "Name: job, dtype: int64"
            ]
          },
          "metadata": {},
          "execution_count": 6
        }
      ]
    },
    {
      "cell_type": "markdown",
      "id": "8fcf4fcd",
      "metadata": {
        "id": "8fcf4fcd"
      },
      "source": [
        "### Задание 3"
      ]
    },
    {
      "cell_type": "code",
      "execution_count": null,
      "id": "3a01be5e",
      "metadata": {
        "id": "3a01be5e"
      },
      "outputs": [],
      "source": [
        "# преобразуйте признак balance таким образом, чтобы он корректно считывался, как вещественное число (float)"
      ]
    },
    {
      "cell_type": "code",
      "source": [
        "def make_convert(row):\n",
        "    row = str(row)\n",
        "    if row != 'unknown':\n",
        "        row = row.replace(',00', '')\n",
        "        row = row.replace('$', '')\n",
        "        row = row.replace(' ', '')\n",
        "        return float(row)\n",
        "    else:\n",
        "        return np.nan\n",
        "df['balance'] = df['balance'].apply(make_convert)\n",
        "df['balance'].mean()\n"
      ],
      "metadata": {
        "colab": {
          "base_uri": "https://localhost:8080/"
        },
        "id": "CuL37NW2eNAd",
        "outputId": "9f0566b6-ec2d-456f-86f4-cc8108a6ea7e"
      },
      "id": "CuL37NW2eNAd",
      "execution_count": 7,
      "outputs": [
        {
          "output_type": "execute_result",
          "data": {
            "text/plain": [
              "1529.1290293615875"
            ]
          },
          "metadata": {},
          "execution_count": 7
        }
      ]
    },
    {
      "cell_type": "markdown",
      "id": "6de63fd7",
      "metadata": {
        "id": "6de63fd7"
      },
      "source": [
        "### Задание 4"
      ]
    },
    {
      "cell_type": "code",
      "execution_count": null,
      "id": "6a684a63",
      "metadata": {
        "id": "6a684a63"
      },
      "outputs": [],
      "source": [
        "# обработайте пропуски в признаки balance , заменив их на медианные значения по данному признаку\n",
        "# ваш код"
      ]
    },
    {
      "cell_type": "code",
      "source": [
        "cols_null_percent = df.isnull().mean() *100\n",
        "cols_with_null = cols_null_percent[cols_null_percent>0].sort_values(ascending=False)\n",
        "display(cols_with_null)"
      ],
      "metadata": {
        "colab": {
          "base_uri": "https://localhost:8080/",
          "height": 52
        },
        "id": "-GthY8AInQN7",
        "outputId": "442c820f-7ed3-41d1-86be-f8bfa2bc452c"
      },
      "id": "-GthY8AInQN7",
      "execution_count": 8,
      "outputs": [
        {
          "output_type": "display_data",
          "data": {
            "text/plain": [
              "balance    0.223974\n",
              "dtype: float64"
            ]
          },
          "metadata": {}
        }
      ]
    },
    {
      "cell_type": "code",
      "source": [
        "cols = cols_with_null.index\n",
        "df[cols].hist(figsize=(10, 5));"
      ],
      "metadata": {
        "colab": {
          "base_uri": "https://localhost:8080/",
          "height": 468
        },
        "id": "0NfYMavEjn1e",
        "outputId": "43e415c8-1ac2-46fe-b6fd-127aad96bc01"
      },
      "id": "0NfYMavEjn1e",
      "execution_count": 9,
      "outputs": [
        {
          "output_type": "display_data",
          "data": {
            "text/plain": [
              "<Figure size 1000x500 with 1 Axes>"
            ],
            "image/png": "[encoded data removed]"
          },
          "metadata": {}
        }
      ]
    },
    {
      "cell_type": "code",
      "source": [
        "med=df['balance'].median()"
      ],
      "metadata": {
        "id": "qfqVCqVXoYFk"
      },
      "id": "qfqVCqVXoYFk",
      "execution_count": 11,
      "outputs": []
    },
    {
      "cell_type": "code",
      "source": [
        "df['balance']=df['balance'].fillna(med)"
      ],
      "metadata": {
        "id": "2JDjBiRGhefN"
      },
      "id": "2JDjBiRGhefN",
      "execution_count": 12,
      "outputs": []
    },
    {
      "cell_type": "code",
      "source": [
        "df['balance'].mean()"
      ],
      "metadata": {
        "colab": {
          "base_uri": "https://localhost:8080/"
        },
        "id": "6Plbbv_JgfsN",
        "outputId": "42274d5f-1521-4d5d-a561-d5fa9184828a"
      },
      "id": "6Plbbv_JgfsN",
      "execution_count": 13,
      "outputs": [
        {
          "output_type": "execute_result",
          "data": {
            "text/plain": [
              "1526.9360329690019"
            ]
          },
          "metadata": {},
          "execution_count": 13
        }
      ]
    },
    {
      "cell_type": "markdown",
      "id": "1097ec42",
      "metadata": {
        "id": "1097ec42"
      },
      "source": [
        "### Задание 5"
      ]
    },
    {
      "cell_type": "code",
      "execution_count": null,
      "id": "0fa070a6",
      "metadata": {
        "id": "0fa070a6"
      },
      "outputs": [],
      "source": [
        "# обработайте пропуски в категориальных признаках: job и education, заменив их на модальные значения\n",
        "# ваш код"
      ]
    },
    {
      "cell_type": "code",
      "source": [
        "m_job = df['job'].mode()[0]\n",
        "df['job'] = df['job'].apply(lambda x: m_job if x == 'unknown' else x)\n"
      ],
      "metadata": {
        "id": "DSwp9BikqD2h"
      },
      "id": "DSwp9BikqD2h",
      "execution_count": 14,
      "outputs": []
    },
    {
      "cell_type": "code",
      "source": [
        "m_education = df['education'].mode()[0]\n",
        "df['education'] = df['education'].apply(lambda x: m_education if x == 'unknown' else x)"
      ],
      "metadata": {
        "id": "3cCowAYksmIB"
      },
      "id": "3cCowAYksmIB",
      "execution_count": 15,
      "outputs": []
    },
    {
      "cell_type": "code",
      "source": [
        "df['education'].value_counts()"
      ],
      "metadata": {
        "colab": {
          "base_uri": "https://localhost:8080/"
        },
        "id": "SUIHLoI4s9IJ",
        "outputId": "7f4d4aa8-b498-4fae-e468-98a6b99b163c"
      },
      "id": "SUIHLoI4s9IJ",
      "execution_count": 16,
      "outputs": [
        {
          "output_type": "execute_result",
          "data": {
            "text/plain": [
              "secondary    5973\n",
              "tertiary     3689\n",
              "primary      1500\n",
              "Name: education, dtype: int64"
            ]
          },
          "metadata": {},
          "execution_count": 16
        }
      ]
    },
    {
      "cell_type": "code",
      "source": [
        "df['job'].value_counts()"
      ],
      "metadata": {
        "colab": {
          "base_uri": "https://localhost:8080/"
        },
        "id": "1JVIXm-xtff7",
        "outputId": "1fb9e01f-4724-4c29-f753-49229a4723b8"
      },
      "id": "1JVIXm-xtff7",
      "execution_count": 17,
      "outputs": [
        {
          "output_type": "execute_result",
          "data": {
            "text/plain": [
              "management       2636\n",
              "blue-collar      1944\n",
              "technician       1823\n",
              "admin.           1334\n",
              "services          923\n",
              "retired           778\n",
              "self-employed     405\n",
              "student           360\n",
              "unemployed        357\n",
              "entrepreneur      328\n",
              "housemaid         274\n",
              "Name: job, dtype: int64"
            ]
          },
          "metadata": {},
          "execution_count": 17
        }
      ]
    },
    {
      "cell_type": "code",
      "source": [
        "# фильтрация и средний баланс\n",
        "df_bal=df[(df.job =='management') & (df.education =='secondary')]\n",
        "display(round(df_bal['balance'].mean(),3))"
      ],
      "metadata": {
        "colab": {
          "base_uri": "https://localhost:8080/",
          "height": 34
        },
        "id": "0wCf6xj3tjqI",
        "outputId": "f5ac1861-c282-48c3-d4d8-69ded2954185"
      },
      "id": "0wCf6xj3tjqI",
      "execution_count": 18,
      "outputs": [
        {
          "output_type": "display_data",
          "data": {
            "text/plain": [
              "1598.883"
            ]
          },
          "metadata": {}
        }
      ]
    },
    {
      "cell_type": "markdown",
      "id": "02af77c6",
      "metadata": {
        "id": "02af77c6"
      },
      "source": [
        "### Задание 6"
      ]
    },
    {
      "cell_type": "code",
      "execution_count": null,
      "id": "3802cdd9",
      "metadata": {
        "id": "3802cdd9"
      },
      "outputs": [],
      "source": [
        "# удалите все выбросы для признака balance\n",
        "# ваш код"
      ]
    },
    {
      "cell_type": "code",
      "source": [
        "df['balance'].describe()"
      ],
      "metadata": {
        "colab": {
          "base_uri": "https://localhost:8080/"
        },
        "id": "H-9TnEdiu9Hg",
        "outputId": "2fced73a-53b2-4825-b476-6f70b5df58dd"
      },
      "id": "H-9TnEdiu9Hg",
      "execution_count": 19,
      "outputs": [
        {
          "output_type": "execute_result",
          "data": {
            "text/plain": [
              "count    11162.000000\n",
              "mean      1526.936033\n",
              "std       3224.829691\n",
              "min      -6847.000000\n",
              "25%        123.000000\n",
              "50%        550.000000\n",
              "75%       1699.000000\n",
              "max      81204.000000\n",
              "Name: balance, dtype: float64"
            ]
          },
          "metadata": {},
          "execution_count": 19
        }
      ]
    },
    {
      "cell_type": "code",
      "source": [
        "fig, axes = plt.subplots(nrows=1, ncols=2, figsize=(20, 4))\n",
        "histplot = sns.histplot(data=df, x='balance', ax=axes[0]);\n",
        "histplot.set_title('balance Distribution');\n",
        "boxplot = sns.boxplot(data=df, x='balance', ax=axes[1]);\n",
        "boxplot.set_title('balance Boxplot');"
      ],
      "metadata": {
        "colab": {
          "base_uri": "https://localhost:8080/",
          "height": 357
        },
        "id": "37fHlOCWyxcD",
        "outputId": "3079a64b-f49f-416d-ee3e-12a9605b5d7a"
      },
      "id": "37fHlOCWyxcD",
      "execution_count": 20,
      "outputs": [
        {
          "output_type": "display_data",
          "data": {
            "text/plain": [
              "<Figure size 2000x400 with 2 Axes>"
            ],
            "image/png": "[encoded data removed]"
          },
          "metadata": {}
        }
      ]
    },
    {
      "cell_type": "code",
      "source": [
        "def outliers_iqr(data, feature):\n",
        "    x = data[feature]\n",
        "    quartile_1, quartile_3 = x.quantile(0.25), x.quantile(0.75),\n",
        "    iqr = quartile_3 - quartile_1\n",
        "    lower_bound = quartile_1 - (iqr * 1.5)\n",
        "    upper_bound = quartile_3 + (iqr * 1.5)\n",
        "    outliers = data[(x < lower_bound) | (x > upper_bound)]\n",
        "    cleaned = data[(x >= lower_bound) & (x <= upper_bound)]\n",
        "    return outliers, cleaned"
      ],
      "metadata": {
        "id": "XHlKDt-a1uP7"
      },
      "id": "XHlKDt-a1uP7",
      "execution_count": 21,
      "outputs": []
    },
    {
      "cell_type": "code",
      "source": [
        "outliers, cleaned = outliers_iqr(df, 'balance')\n",
        "print(f'Число выбросов по методу Тьюки: {outliers.shape[0]}')\n",
        "print(f'Результирующее число записей: {cleaned.shape[0]}')"
      ],
      "metadata": {
        "colab": {
          "base_uri": "https://localhost:8080/"
        },
        "id": "0RLIvix52dWY",
        "outputId": "80eca2ca-680b-458c-9e60-4a8fd90c6f55"
      },
      "id": "0RLIvix52dWY",
      "execution_count": 22,
      "outputs": [
        {
          "output_type": "stream",
          "name": "stdout",
          "text": [
            "Число выбросов по методу Тьюки: 1057\n",
            "Результирующее число записей: 10105\n"
          ]
        }
      ]
    },
    {
      "cell_type": "code",
      "source": [
        "x = df['balance']\n",
        "quartile_1, quartile_3 = x.quantile(0.25), x.quantile(0.75),\n",
        "iqr = quartile_3 - quartile_1\n",
        "lower_bound = quartile_1 - (iqr * 1.5)\n",
        "upper_bound = quartile_3 + (iqr * 1.5)\n",
        "print(lower_bound,upper_bound)"
      ],
      "metadata": {
        "colab": {
          "base_uri": "https://localhost:8080/"
        },
        "id": "MRnP57JM4MjP",
        "outputId": "8680e6d0-e89f-4f0c-d375-dd8a43e5aa5c"
      },
      "id": "MRnP57JM4MjP",
      "execution_count": 23,
      "outputs": [
        {
          "output_type": "stream",
          "name": "stdout",
          "text": [
            "-2241.0 4063.0\n"
          ]
        }
      ]
    },
    {
      "cell_type": "markdown",
      "id": "5d22b8cd",
      "metadata": {
        "id": "5d22b8cd"
      },
      "source": [
        "## Часть 2:  Разведывательный анализ"
      ]
    },
    {
      "cell_type": "markdown",
      "id": "21e1f083",
      "metadata": {
        "id": "21e1f083"
      },
      "source": [
        "### Задание 1"
      ]
    },
    {
      "cell_type": "code",
      "execution_count": null,
      "id": "6d0cd3a8",
      "metadata": {
        "id": "6d0cd3a8"
      },
      "outputs": [],
      "source": [
        "# изучите соотношение классов в ваших данных на предмет несбалансированности, проиллюстрируйте результат\n",
        "# ваш код"
      ]
    },
    {
      "cell_type": "code",
      "source": [
        "df['deposit'].describe()"
      ],
      "metadata": {
        "colab": {
          "base_uri": "https://localhost:8080/"
        },
        "id": "BEXUMBX2K0C9",
        "outputId": "2b9b1d4c-dbf2-465d-d135-45cffdf03810"
      },
      "id": "BEXUMBX2K0C9",
      "execution_count": 24,
      "outputs": [
        {
          "output_type": "execute_result",
          "data": {
            "text/plain": [
              "count     11162\n",
              "unique        2\n",
              "top          no\n",
              "freq       5873\n",
              "Name: deposit, dtype: object"
            ]
          },
          "metadata": {},
          "execution_count": 24
        }
      ]
    },
    {
      "cell_type": "code",
      "source": [
        "df['deposit'].value_counts()"
      ],
      "metadata": {
        "colab": {
          "base_uri": "https://localhost:8080/"
        },
        "id": "a5s5L3De5F25",
        "outputId": "a44b834e-4ebd-41ac-fcb8-204b1b830c29"
      },
      "id": "a5s5L3De5F25",
      "execution_count": 25,
      "outputs": [
        {
          "output_type": "execute_result",
          "data": {
            "text/plain": [
              "no     5873\n",
              "yes    5289\n",
              "Name: deposit, dtype: int64"
            ]
          },
          "metadata": {},
          "execution_count": 25
        }
      ]
    },
    {
      "cell_type": "code",
      "source": [
        "sns.countplot(x=df[\"deposit\"])"
      ],
      "metadata": {
        "colab": {
          "base_uri": "https://localhost:8080/",
          "height": 466
        },
        "id": "AjTYXJrT5fnC",
        "outputId": "57d14197-6b67-4992-95c6-e75e88863858"
      },
      "id": "AjTYXJrT5fnC",
      "execution_count": 26,
      "outputs": [
        {
          "output_type": "execute_result",
          "data": {
            "text/plain": [
              "<Axes: xlabel='deposit', ylabel='count'>"
            ]
          },
          "metadata": {},
          "execution_count": 26
        },
        {
          "output_type": "display_data",
          "data": {
            "text/plain": [
              "<Figure size 640x480 with 1 Axes>"
            ],
            "image/png": "[encoded data removed]"
          },
          "metadata": {}
        }
      ]
    },
    {
      "cell_type": "markdown",
      "id": "426b1d40",
      "metadata": {
        "id": "426b1d40"
      },
      "source": [
        "### Задания 2 и 3"
      ]
    },
    {
      "cell_type": "code",
      "execution_count": null,
      "id": "603cdb3c",
      "metadata": {
        "id": "603cdb3c"
      },
      "outputs": [],
      "source": [
        "#рассчитайте описательные статистики для количественных переменных, проинтерпретируйте результат\n",
        "#ваш код"
      ]
    },
    {
      "cell_type": "code",
      "source": [
        "df['age'].describe() # максимальный возраст клиента"
      ],
      "metadata": {
        "colab": {
          "base_uri": "https://localhost:8080/"
        },
        "id": "8nbdl2JxY82d",
        "outputId": "1cb8c03f-f7da-4aa3-8d57-99bdf9515b45"
      },
      "id": "8nbdl2JxY82d",
      "execution_count": 27,
      "outputs": [
        {
          "output_type": "execute_result",
          "data": {
            "text/plain": [
              "count    11162.000000\n",
              "mean        41.231948\n",
              "std         11.913369\n",
              "min         18.000000\n",
              "25%         32.000000\n",
              "50%         39.000000\n",
              "75%         49.000000\n",
              "max         95.000000\n",
              "Name: age, dtype: float64"
            ]
          },
          "metadata": {},
          "execution_count": 27
        }
      ]
    },
    {
      "cell_type": "code",
      "source": [
        "df['duration'].describe() # минимальная продолжительность разговора с клиентом банка"
      ],
      "metadata": {
        "colab": {
          "base_uri": "https://localhost:8080/"
        },
        "id": "6vDIR52OZ9C4",
        "outputId": "acd60d2c-0a9d-4755-9df2-de91896c16d3"
      },
      "id": "6vDIR52OZ9C4",
      "execution_count": 28,
      "outputs": [
        {
          "output_type": "execute_result",
          "data": {
            "text/plain": [
              "count    11162.000000\n",
              "mean       371.993818\n",
              "std        347.128386\n",
              "min          2.000000\n",
              "25%        138.000000\n",
              "50%        255.000000\n",
              "75%        496.000000\n",
              "max       3881.000000\n",
              "Name: duration, dtype: float64"
            ]
          },
          "metadata": {},
          "execution_count": 28
        }
      ]
    },
    {
      "cell_type": "markdown",
      "id": "821dc39e",
      "metadata": {
        "id": "821dc39e"
      },
      "source": [
        "### Задания 4 и 5"
      ]
    },
    {
      "cell_type": "code",
      "execution_count": null,
      "id": "bf45afc9",
      "metadata": {
        "id": "bf45afc9"
      },
      "outputs": [],
      "source": [
        "#рассчитайте описательные статистики для категориальных переменных, проинтерпретируйте результат\n",
        "#ваш код\n",
        "#постройте визуализации, иллюстрирующие результаты"
      ]
    },
    {
      "cell_type": "code",
      "source": [
        "df['month'].describe(include = 'object') # Сколько было месяцев, в которых проводилась маркетинговая кампания"
      ],
      "metadata": {
        "colab": {
          "base_uri": "https://localhost:8080/"
        },
        "id": "7_8ZLoVuajgG",
        "outputId": "de93cee4-bdbd-449c-dcee-5e91723d620a"
      },
      "id": "7_8ZLoVuajgG",
      "execution_count": 29,
      "outputs": [
        {
          "output_type": "execute_result",
          "data": {
            "text/plain": [
              "count     11162\n",
              "unique       12\n",
              "top         may\n",
              "freq       2824\n",
              "Name: month, dtype: object"
            ]
          },
          "metadata": {},
          "execution_count": 29
        }
      ]
    },
    {
      "cell_type": "code",
      "source": [
        "sns.countplot(x=df[\"month\"])"
      ],
      "metadata": {
        "colab": {
          "base_uri": "https://localhost:8080/",
          "height": 466
        },
        "id": "dJzmcAy1bXwf",
        "outputId": "81158036-b54a-4a74-806e-1b68d1eadfd4"
      },
      "id": "dJzmcAy1bXwf",
      "execution_count": 30,
      "outputs": [
        {
          "output_type": "execute_result",
          "data": {
            "text/plain": [
              "<Axes: xlabel='month', ylabel='count'>"
            ]
          },
          "metadata": {},
          "execution_count": 30
        },
        {
          "output_type": "display_data",
          "data": {
            "text/plain": [
              "<Figure size 640x480 with 1 Axes>"
            ],
            "image/png": "[encoded data removed]"
          },
          "metadata": {}
        }
      ]
    },
    {
      "cell_type": "code",
      "source": [
        "# Сколько сфер занятости представлено среди клиентов банка\n",
        "df['job'].describe()"
      ],
      "metadata": {
        "colab": {
          "base_uri": "https://localhost:8080/"
        },
        "id": "uNN8By6onu7q",
        "outputId": "747d687b-80e2-420e-86f3-c1466df19a7a"
      },
      "id": "uNN8By6onu7q",
      "execution_count": 31,
      "outputs": [
        {
          "output_type": "execute_result",
          "data": {
            "text/plain": [
              "count          11162\n",
              "unique            11\n",
              "top       management\n",
              "freq            2636\n",
              "Name: job, dtype: object"
            ]
          },
          "metadata": {},
          "execution_count": 31
        }
      ]
    },
    {
      "cell_type": "markdown",
      "id": "472cff5b",
      "metadata": {
        "id": "472cff5b"
      },
      "source": [
        "### Задание 6"
      ]
    },
    {
      "cell_type": "code",
      "execution_count": null,
      "id": "2d640ce1",
      "metadata": {
        "id": "2d640ce1"
      },
      "outputs": [],
      "source": [
        "# Узнайте, для какого статуса предыдущей маркетинговой кампании успех в текущей превалирует над количеством неудач.\n",
        "# ваш код"
      ]
    },
    {
      "cell_type": "code",
      "source": [
        "types=df.groupby('poutcome')['deposit'].value_counts(normalize=False).unstack()\n",
        "types.plot(kind='bar', stacked='True')"
      ],
      "metadata": {
        "colab": {
          "base_uri": "https://localhost:8080/",
          "height": 515
        },
        "id": "WOmQQsTXnq4T",
        "outputId": "8504166a-373f-4122-b2b2-591e1318e378"
      },
      "id": "WOmQQsTXnq4T",
      "execution_count": 32,
      "outputs": [
        {
          "output_type": "execute_result",
          "data": {
            "text/plain": [
              "<Axes: xlabel='poutcome'>"
            ]
          },
          "metadata": {},
          "execution_count": 32
        },
        {
          "output_type": "display_data",
          "data": {
            "text/plain": [
              "<Figure size 640x480 with 1 Axes>"
            ],
            "image/png": "[encoded data removed]"
          },
          "metadata": {}
        }
      ]
    },
    {
      "cell_type": "markdown",
      "id": "9c32e3aa",
      "metadata": {
        "id": "9c32e3aa"
      },
      "source": [
        "### Задание 7"
      ]
    },
    {
      "cell_type": "code",
      "execution_count": null,
      "id": "df437ec3",
      "metadata": {
        "id": "df437ec3"
      },
      "outputs": [],
      "source": [
        "# узнайте, в каком месяце чаще всего отказывались от предложения открыть депозит\n",
        "# ваш код"
      ]
    },
    {
      "cell_type": "code",
      "source": [
        "res_no = df[df.deposit == 'no'].groupby(['month'])['deposit'].count()\n",
        "res_all = df.groupby(['month'])['deposit'].count()\n",
        "\n",
        "print(res_no/res_all)"
      ],
      "metadata": {
        "id": "ghdqpU65SPAw",
        "colab": {
          "base_uri": "https://localhost:8080/"
        },
        "outputId": "943c5057-4b2a-4270-aa21-d2551f90f65e"
      },
      "id": "ghdqpU65SPAw",
      "execution_count": 45,
      "outputs": [
        {
          "output_type": "stream",
          "name": "stdout",
          "text": [
            "month\n",
            "apr    0.374865\n",
            "aug    0.547070\n",
            "dec    0.090909\n",
            "feb    0.431701\n",
            "jan    0.587209\n",
            "jul    0.585865\n",
            "jun    0.553191\n",
            "mar    0.101449\n",
            "may    0.672450\n",
            "nov    0.572641\n",
            "oct    0.176020\n",
            "sep    0.156740\n",
            "Name: deposit, dtype: float64\n"
          ]
        }
      ]
    },
    {
      "cell_type": "markdown",
      "id": "5f20762f",
      "metadata": {
        "id": "5f20762f"
      },
      "source": [
        "### Задание 8"
      ]
    },
    {
      "cell_type": "code",
      "execution_count": null,
      "id": "95d56f1b",
      "metadata": {
        "id": "95d56f1b"
      },
      "outputs": [],
      "source": [
        "# создайте возрастные группы и определите, в каких группах более склонны открывать депозит, чем отказываться от предложения"
      ]
    },
    {
      "cell_type": "code",
      "source": [
        "df['age_group']=pd.cut(df.age,[0,30,40,50,60,9999],labels=['<30','30-40','40-50','50-60','60+'])\n",
        "sns.countplot(x='age_group',hue='deposit',data=df)"
      ],
      "metadata": {
        "colab": {
          "base_uri": "https://localhost:8080/",
          "height": 466
        },
        "id": "clwNIrJsSegf",
        "outputId": "21bfe3f5-251b-49a0-ceb6-61f3e08476ac"
      },
      "id": "clwNIrJsSegf",
      "execution_count": 34,
      "outputs": [
        {
          "output_type": "execute_result",
          "data": {
            "text/plain": [
              "<Axes: xlabel='age_group', ylabel='count'>"
            ]
          },
          "metadata": {},
          "execution_count": 34
        },
        {
          "output_type": "display_data",
          "data": {
            "text/plain": [
              "<Figure size 640x480 with 1 Axes>"
            ],
            "image/png": "[encoded data removed]"
          },
          "metadata": {}
        }
      ]
    },
    {
      "cell_type": "markdown",
      "id": "0841c685",
      "metadata": {
        "id": "0841c685"
      },
      "source": [
        "### Задания 9 и 10"
      ]
    },
    {
      "cell_type": "code",
      "execution_count": null,
      "id": "0d84a9e1",
      "metadata": {
        "id": "0d84a9e1"
      },
      "outputs": [],
      "source": [
        "# постройте визуализации для открывших и неоткрывших депозит в зависимости от семейного статуса"
      ]
    },
    {
      "cell_type": "code",
      "source": [
        "sns.countplot(x='marital',hue='deposit',data=df)"
      ],
      "metadata": {
        "colab": {
          "base_uri": "https://localhost:8080/",
          "height": 466
        },
        "id": "to43Ege2a8uB",
        "outputId": "dd64c35c-2300-409a-971e-155ae4f4589d"
      },
      "id": "to43Ege2a8uB",
      "execution_count": 35,
      "outputs": [
        {
          "output_type": "execute_result",
          "data": {
            "text/plain": [
              "<Axes: xlabel='marital', ylabel='count'>"
            ]
          },
          "metadata": {},
          "execution_count": 35
        },
        {
          "output_type": "display_data",
          "data": {
            "text/plain": [
              "<Figure size 640x480 with 1 Axes>"
            ],
            "image/png": "[encoded data removed]"
          },
          "metadata": {}
        }
      ]
    },
    {
      "cell_type": "code",
      "execution_count": null,
      "id": "16333967",
      "metadata": {
        "id": "16333967"
      },
      "outputs": [],
      "source": [
        "# постройте визуализации для открывших и неоткрывших депозит в зависимости от образования"
      ]
    },
    {
      "cell_type": "code",
      "source": [
        "sns.countplot(x='education',hue='deposit',data=df)"
      ],
      "metadata": {
        "colab": {
          "base_uri": "https://localhost:8080/",
          "height": 466
        },
        "id": "tRaG72NKa9ns",
        "outputId": "9ddd20f8-6ff5-4a79-c51b-f056b505597a"
      },
      "id": "tRaG72NKa9ns",
      "execution_count": 36,
      "outputs": [
        {
          "output_type": "execute_result",
          "data": {
            "text/plain": [
              "<Axes: xlabel='education', ylabel='count'>"
            ]
          },
          "metadata": {},
          "execution_count": 36
        },
        {
          "output_type": "display_data",
          "data": {
            "text/plain": [
              "<Figure size 640x480 with 1 Axes>"
            ],
            "image/png": "[encoded data removed]"
          },
          "metadata": {}
        }
      ]
    },
    {
      "cell_type": "code",
      "execution_count": null,
      "id": "738224f8",
      "metadata": {
        "id": "738224f8"
      },
      "outputs": [],
      "source": [
        "# постройте визуализации для открывших и неоткрывших депозит в зависимости от вида профессиональной занятости"
      ]
    },
    {
      "cell_type": "code",
      "source": [
        "sns.countplot(x='job',hue='deposit',data=df,)"
      ],
      "metadata": {
        "colab": {
          "base_uri": "https://localhost:8080/",
          "height": 471
        },
        "id": "UuYT_KC3a-Mx",
        "outputId": "a724c403-d5c2-4c91-a8c9-fe281cf33965"
      },
      "id": "UuYT_KC3a-Mx",
      "execution_count": 37,
      "outputs": [
        {
          "output_type": "execute_result",
          "data": {
            "text/plain": [
              "<Axes: xlabel='job', ylabel='count'>"
            ]
          },
          "metadata": {},
          "execution_count": 37
        },
        {
          "output_type": "display_data",
          "data": {
            "text/plain": [
              "<Figure size 640x480 with 1 Axes>"
            ],
            "image/png": "[encoded data removed]"
          },
          "metadata": {}
        }
      ]
    },
    {
      "cell_type": "markdown",
      "id": "a521e204",
      "metadata": {
        "id": "a521e204"
      },
      "source": [
        "### Задание 11"
      ]
    },
    {
      "cell_type": "code",
      "execution_count": null,
      "id": "35ab0413",
      "metadata": {
        "id": "35ab0413"
      },
      "outputs": [],
      "source": [
        "# постройте сводную таблицу, чтобы определить люди с каким образованием и семейным статусом наиболее многочисленны\n",
        "#(если рассматривать тех, кто открыл депозит)"
      ]
    },
    {
      "cell_type": "code",
      "source": [
        "data_yes = df[df.deposit == 'yes'][['education','marital','deposit']]\n",
        "data_no = df[df.deposit == 'no'][['education','marital','deposit']]\n",
        "res1 = pd.crosstab(data_yes['education'], data_yes['marital'])\n",
        "res2 = pd.crosstab(data_no['education'], data_no['marital'])\n",
        "data_y = data_yes.groupby(['education', 'marital'])['deposit'].count().unstack()\n",
        "data_n = data_no.groupby(['education', 'marital'])['deposit'].count().unstack()\n",
        "sns.heatmap(data_y)\n",
        "sns.heatmap(data_n)\n",
        "print(res1,res2)"
      ],
      "metadata": {
        "colab": {
          "base_uri": "https://localhost:8080/",
          "height": 605
        },
        "id": "T0iQaME8V9DS",
        "outputId": "52e21f9e-dc97-419c-eff3-68e30370b41a"
      },
      "id": "T0iQaME8V9DS",
      "execution_count": 42,
      "outputs": [
        {
          "output_type": "stream",
          "name": "stdout",
          "text": [
            "marital    divorced  married  single\n",
            "education                           \n",
            "primary         104      396      91\n",
            "secondary       315     1446     941\n",
            "tertiary        203      913     880 marital    divorced  married  single\n",
            "education                           \n",
            "primary         100      703     106\n",
            "secondary       388     1963     920\n",
            "tertiary        183      930     580\n"
          ]
        },
        {
          "output_type": "display_data",
          "data": {
            "text/plain": [
              "<Figure size 640x480 with 3 Axes>"
            ],
            "image/png": "[encoded data removed]"
          },
          "metadata": {}
        }
      ]
    },
    {
      "cell_type": "markdown",
      "id": "dfd805c0",
      "metadata": {
        "id": "dfd805c0"
      },
      "source": [
        "## Часть 3: преобразование данных"
      ]
    },
    {
      "cell_type": "markdown",
      "id": "e44e715b",
      "metadata": {
        "id": "e44e715b"
      },
      "source": [
        "### Задание 1"
      ]
    },
    {
      "cell_type": "code",
      "execution_count": null,
      "id": "1e815773",
      "metadata": {
        "id": "1e815773"
      },
      "outputs": [],
      "source": [
        "# преобразуйте уровни образования"
      ]
    },
    {
      "cell_type": "code",
      "source": [
        "\n",
        "lab_enc=LabelEncoder() # Создание экземпляра класса LabelEncoder()\n",
        "\n",
        "# Кодирование признака\n",
        "df['education']=lab_enc.fit_transform(df['education'])\n",
        "\n",
        "df['education'].sum()"
      ],
      "metadata": {
        "id": "lCW2mL5we5kN",
        "colab": {
          "base_uri": "https://localhost:8080/"
        },
        "outputId": "9d12abb6-5ccb-49b9-9ce8-7f3c5226ccff"
      },
      "id": "lCW2mL5we5kN",
      "execution_count": null,
      "outputs": [
        {
          "output_type": "execute_result",
          "data": {
            "text/plain": [
              "13351"
            ]
          },
          "metadata": {},
          "execution_count": 38
        }
      ]
    },
    {
      "cell_type": "markdown",
      "id": "8c93e73d",
      "metadata": {
        "id": "8c93e73d"
      },
      "source": [
        "### Задания 2 и 3"
      ]
    },
    {
      "cell_type": "code",
      "execution_count": null,
      "id": "626a5762",
      "metadata": {
        "id": "626a5762"
      },
      "outputs": [],
      "source": [
        "# преобразуйте бинарные переменные в представление из нулей и единиц"
      ]
    },
    {
      "cell_type": "markdown",
      "id": "c40dc02a",
      "metadata": {
        "id": "c40dc02a"
      },
      "source": [
        "### Задание 4"
      ]
    },
    {
      "cell_type": "code",
      "execution_count": null,
      "id": "b996883f",
      "metadata": {
        "id": "b996883f"
      },
      "outputs": [],
      "source": [
        "# создайте дамми-переменные"
      ]
    },
    {
      "cell_type": "markdown",
      "id": "9a23e318",
      "metadata": {
        "id": "9a23e318"
      },
      "source": [
        "### Задания 5 и 6"
      ]
    },
    {
      "cell_type": "code",
      "execution_count": null,
      "id": "1c884c1a",
      "metadata": {
        "id": "1c884c1a"
      },
      "outputs": [],
      "source": [
        "# постройте корреляционную матрицу и оцените данные на предмет наличия мультиколлинеарности"
      ]
    },
    {
      "cell_type": "code",
      "source": [],
      "metadata": {
        "id": "v2tO_KhyhuRr"
      },
      "id": "v2tO_KhyhuRr",
      "execution_count": null,
      "outputs": []
    },
    {
      "cell_type": "markdown",
      "id": "b5b4c1a5",
      "metadata": {
        "id": "b5b4c1a5"
      },
      "source": [
        "### Задания 7 и 8"
      ]
    },
    {
      "cell_type": "code",
      "execution_count": null,
      "id": "79f3e432",
      "metadata": {
        "id": "79f3e432"
      },
      "outputs": [],
      "source": [
        "X = df.drop(['deposit'], axis=1)\n",
        "y = df['deposit']\n",
        "\n",
        "X_train, X_test, y_train, y_test = train_test_split(X, y, stratify=y, random_state = 42, test_size = 0.33)\n"
      ]
    },
    {
      "cell_type": "code",
      "execution_count": null,
      "id": "e3a097a4",
      "metadata": {
        "id": "e3a097a4"
      },
      "outputs": [],
      "source": [
        "# рассчитайте необходимые показатели"
      ]
    },
    {
      "cell_type": "markdown",
      "id": "2e381a4f",
      "metadata": {
        "id": "2e381a4f"
      },
      "source": [
        "### Задание 9"
      ]
    },
    {
      "cell_type": "code",
      "execution_count": null,
      "id": "0f6e03e0",
      "metadata": {
        "id": "0f6e03e0"
      },
      "outputs": [],
      "source": [
        "# с помощью SelectKBest отберите 15 наиболее подходящих признаков"
      ]
    },
    {
      "cell_type": "markdown",
      "id": "60132ef3",
      "metadata": {
        "id": "60132ef3"
      },
      "source": [
        "### Задание 10"
      ]
    },
    {
      "cell_type": "code",
      "execution_count": null,
      "id": "e91b06f3",
      "metadata": {
        "id": "e91b06f3"
      },
      "outputs": [],
      "source": [
        "# нормализуйте данные с помощью minmaxsxaler"
      ]
    },
    {
      "cell_type": "markdown",
      "id": "0894c632",
      "metadata": {
        "id": "0894c632"
      },
      "source": [
        "# Часть 4: Решение задачи классификации: логистическая регрессия и решающие деревья"
      ]
    },
    {
      "cell_type": "markdown",
      "id": "41b8ff06",
      "metadata": {
        "id": "41b8ff06"
      },
      "source": [
        "### Задание 1"
      ]
    },
    {
      "cell_type": "code",
      "execution_count": null,
      "id": "8acc0166",
      "metadata": {
        "id": "8acc0166"
      },
      "outputs": [],
      "source": [
        "# обучите логистическую регрессию и рассчитайте метрики качества"
      ]
    },
    {
      "cell_type": "markdown",
      "id": "29b7e0ba",
      "metadata": {
        "id": "29b7e0ba"
      },
      "source": [
        "### Задания 2,3,4"
      ]
    },
    {
      "cell_type": "code",
      "execution_count": null,
      "id": "c91a588b",
      "metadata": {
        "id": "c91a588b"
      },
      "outputs": [],
      "source": [
        "# обучите решающие деревья, настройте максимальную глубину"
      ]
    },
    {
      "cell_type": "markdown",
      "id": "fe823c18",
      "metadata": {
        "id": "fe823c18"
      },
      "source": [
        "### Задание 5"
      ]
    },
    {
      "cell_type": "code",
      "execution_count": null,
      "id": "63574943",
      "metadata": {
        "id": "63574943"
      },
      "outputs": [],
      "source": [
        "# подберите оптимальные параметры с помощью gridsearch"
      ]
    },
    {
      "cell_type": "markdown",
      "id": "ed0fc831",
      "metadata": {
        "id": "ed0fc831"
      },
      "source": [
        "# Часть 5: Решение задачи классификации: ансамбли моделей и построение прогноза"
      ]
    },
    {
      "cell_type": "markdown",
      "id": "f9e36ff2",
      "metadata": {
        "id": "f9e36ff2"
      },
      "source": [
        "### Задание 1"
      ]
    },
    {
      "cell_type": "code",
      "execution_count": null,
      "id": "e708e3fe",
      "metadata": {
        "id": "e708e3fe"
      },
      "outputs": [],
      "source": [
        "# обучите на ваших данных случайный лес"
      ]
    },
    {
      "cell_type": "markdown",
      "id": "71d7b13d",
      "metadata": {
        "id": "71d7b13d"
      },
      "source": [
        "### Задания 2 и 3"
      ]
    },
    {
      "cell_type": "code",
      "execution_count": null,
      "id": "99f12dfe",
      "metadata": {
        "id": "99f12dfe"
      },
      "outputs": [],
      "source": [
        "# используйте для классификации градиентный бустинг и сравните качество со случайным лесом"
      ]
    },
    {
      "cell_type": "code",
      "source": [
        "y_train_pred = rf.predict(X_train_scaled)\n",
        "print('Train: {:.2f}'.format(metrics.accuracy_score(y_train, y_train_pred)))\n",
        "y_test_pred = rf.predict(X_test_scaled)\n",
        "print('Test accuracy: {:.2f}'.format(metrics.accuracy_score(y_test, y_test_pred)))\n",
        "print()\n",
        "print('Train: {:.2f}'.format(metrics.recall_score(y_train, y_train_pred)))\n",
        "print('Test recall: {:.2f}'.format(metrics.recall_score(y_test, y_test_pred)))"
      ],
      "metadata": {
        "colab": {
          "base_uri": "https://localhost:8080/",
          "height": 245
        },
        "id": "T6S6L9s6ZEAr",
        "outputId": "3547d8b1-5944-474f-b682-8de9751a81b7"
      },
      "id": "T6S6L9s6ZEAr",
      "execution_count": 46,
      "outputs": [
        {
          "output_type": "error",
          "ename": "NameError",
          "evalue": "ignored",
          "traceback": [
            "\u001b[0;31m---------------------------------------------------------------------------\u001b[0m",
            "\u001b[0;31mNameError\u001b[0m                                 Traceback (most recent call last)",
            "\u001b[0;32m<ipython-input-46-6e574189be38>\u001b[0m in \u001b[0;36m<cell line: 1>\u001b[0;34m()\u001b[0m\n\u001b[0;32m----> 1\u001b[0;31m \u001b[0my_train_pred\u001b[0m \u001b[0;34m=\u001b[0m \u001b[0mrf\u001b[0m\u001b[0;34m.\u001b[0m\u001b[0mpredict\u001b[0m\u001b[0;34m(\u001b[0m\u001b[0mX_train_scaled\u001b[0m\u001b[0;34m)\u001b[0m\u001b[0;34m\u001b[0m\u001b[0;34m\u001b[0m\u001b[0m\n\u001b[0m\u001b[1;32m      2\u001b[0m \u001b[0mprint\u001b[0m\u001b[0;34m(\u001b[0m\u001b[0;34m'Train: {:.2f}'\u001b[0m\u001b[0;34m.\u001b[0m\u001b[0mformat\u001b[0m\u001b[0;34m(\u001b[0m\u001b[0mmetrics\u001b[0m\u001b[0;34m.\u001b[0m\u001b[0maccuracy_score\u001b[0m\u001b[0;34m(\u001b[0m\u001b[0my_train\u001b[0m\u001b[0;34m,\u001b[0m \u001b[0my_train_pred\u001b[0m\u001b[0;34m)\u001b[0m\u001b[0;34m)\u001b[0m\u001b[0;34m)\u001b[0m\u001b[0;34m\u001b[0m\u001b[0;34m\u001b[0m\u001b[0m\n\u001b[1;32m      3\u001b[0m \u001b[0my_test_pred\u001b[0m \u001b[0;34m=\u001b[0m \u001b[0mrf\u001b[0m\u001b[0;34m.\u001b[0m\u001b[0mpredict\u001b[0m\u001b[0;34m(\u001b[0m\u001b[0mX_test_scaled\u001b[0m\u001b[0;34m)\u001b[0m\u001b[0;34m\u001b[0m\u001b[0;34m\u001b[0m\u001b[0m\n\u001b[1;32m      4\u001b[0m \u001b[0mprint\u001b[0m\u001b[0;34m(\u001b[0m\u001b[0;34m'Test accuracy: {:.2f}'\u001b[0m\u001b[0;34m.\u001b[0m\u001b[0mformat\u001b[0m\u001b[0;34m(\u001b[0m\u001b[0mmetrics\u001b[0m\u001b[0;34m.\u001b[0m\u001b[0maccuracy_score\u001b[0m\u001b[0;34m(\u001b[0m\u001b[0my_test\u001b[0m\u001b[0;34m,\u001b[0m \u001b[0my_test_pred\u001b[0m\u001b[0;34m)\u001b[0m\u001b[0;34m)\u001b[0m\u001b[0;34m)\u001b[0m\u001b[0;34m\u001b[0m\u001b[0;34m\u001b[0m\u001b[0m\n\u001b[1;32m      5\u001b[0m \u001b[0mprint\u001b[0m\u001b[0;34m(\u001b[0m\u001b[0;34m)\u001b[0m\u001b[0;34m\u001b[0m\u001b[0;34m\u001b[0m\u001b[0m\n",
            "\u001b[0;31mNameError\u001b[0m: name 'rf' is not defined"
          ]
        }
      ]
    },
    {
      "cell_type": "markdown",
      "id": "b08718ae",
      "metadata": {
        "id": "b08718ae"
      },
      "source": [
        "### Задание 4"
      ]
    },
    {
      "cell_type": "code",
      "execution_count": null,
      "id": "0bd42fb0",
      "metadata": {
        "id": "0bd42fb0"
      },
      "outputs": [],
      "source": [
        "# объедините уже известные вам алгоритмы с помощью стекинга"
      ]
    },
    {
      "cell_type": "markdown",
      "id": "6247a5fb",
      "metadata": {
        "id": "6247a5fb"
      },
      "source": [
        "### Задание 5"
      ]
    },
    {
      "cell_type": "code",
      "execution_count": null,
      "id": "35de769c",
      "metadata": {
        "id": "35de769c"
      },
      "outputs": [],
      "source": [
        "# оцените, какие признаки демонстрируют наибольшую  важность в модели градиентного бустинга"
      ]
    },
    {
      "cell_type": "markdown",
      "id": "96974dda",
      "metadata": {
        "id": "96974dda"
      },
      "source": [
        "### Задания 6,7,8"
      ]
    },
    {
      "cell_type": "code",
      "execution_count": null,
      "id": "c48e29e9",
      "metadata": {
        "id": "c48e29e9"
      },
      "outputs": [],
      "source": [
        "# реализуйте оптимизацию гиперпараметров с помощью Optuna"
      ]
    }
  ],
  "metadata": {
    "kernelspec": {
      "display_name": "Python 3 (ipykernel)",
      "language": "python",
      "name": "python3"
    },
    "language_info": {
      "codemirror_mode": {
        "name": "ipython",
        "version": 3
      },
      "file_extension": ".py",
      "mimetype": "text/x-python",
      "name": "python",
      "nbconvert_exporter": "python",
      "pygments_lexer": "ipython3",
      "version": "3.9.7"
    },
    "colab": {
      "provenance": [],
      "include_colab_link": true
    }
  },
  "nbformat": 4,
  "nbformat_minor": 5
}