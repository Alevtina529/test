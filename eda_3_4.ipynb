{
 "cells": [
  {
   "attachments": {},
   "cell_type": "markdown",
   "metadata": {},
   "source": [
    "# Домашнее задание"
   ]
  },
  {
   "attachments": {},
   "cell_type": "markdown",
   "metadata": {},
   "source": [
    "Используя информацию по мидиям Петербурга и Магадана, которые представлены в виде двух массивов petersburg и magadan в разделе ANOVA тест, проверьте данные на нормальность и на наличие корреляции. Для этого объедините 2 массива в DataFrame. Обоснуйте выбор теста на корреляцию. Сделайте вывод по гипотезе.\n",
    " \n",
    " \n",
    "Также ответьте на вопрос:\n",
    "Какова разница в среднем размере мидии в зависимости от города-производителя. Обоснуйте выбор теста. Сделайте вывод по гипотезе."
   ]
  },
  {
   "cell_type": "code",
   "execution_count": 1,
   "metadata": {},
   "outputs": [],
   "source": [
    "import pandas as pd #для работы с таблицами"
   ]
  },
  {
   "cell_type": "code",
   "execution_count": 2,
   "metadata": {},
   "outputs": [
    {
     "name": "stdout",
     "output_type": "stream",
     "text": [
      "Requirement already satisfied: scipy in c:\\users\\sergk\\appdata\\local\\programs\\python\\python310\\lib\\site-packages (1.10.1)\n",
      "Requirement already satisfied: numpy<1.27.0,>=1.19.5 in c:\\users\\sergk\\appdata\\local\\programs\\python\\python310\\lib\\site-packages (from scipy) (1.23.5)\n"
     ]
    },
    {
     "name": "stderr",
     "output_type": "stream",
     "text": [
      "\n",
      "[notice] A new release of pip is available: 23.0.1 -> 23.2.1\n",
      "[notice] To update, run: python.exe -m pip install --upgrade pip\n"
     ]
    }
   ],
   "source": [
    "!pip install scipy"
   ]
  },
  {
   "cell_type": "code",
   "execution_count": 3,
   "metadata": {},
   "outputs": [
    {
     "name": "stdout",
     "output_type": "stream",
     "text": [
      "Requirement already satisfied: statsmodels in c:\\users\\sergk\\appdata\\local\\programs\\python\\python310\\lib\\site-packages (0.14.0)\n",
      "Requirement already satisfied: pandas>=1.0 in c:\\users\\sergk\\appdata\\local\\programs\\python\\python310\\lib\\site-packages (from statsmodels) (2.0.1)\n",
      "Requirement already satisfied: numpy>=1.22.3 in c:\\users\\sergk\\appdata\\local\\programs\\python\\python310\\lib\\site-packages (from statsmodels) (1.23.5)\n",
      "Requirement already satisfied: patsy>=0.5.2 in c:\\users\\sergk\\appdata\\local\\programs\\python\\python310\\lib\\site-packages (from statsmodels) (0.5.3)\n",
      "Requirement already satisfied: packaging>=21.3 in c:\\users\\sergk\\appdata\\roaming\\python\\python310\\site-packages (from statsmodels) (23.1)\n",
      "Requirement already satisfied: scipy!=1.9.2,>=1.4 in c:\\users\\sergk\\appdata\\local\\programs\\python\\python310\\lib\\site-packages (from statsmodels) (1.10.1)\n",
      "Requirement already satisfied: pytz>=2020.1 in c:\\users\\sergk\\appdata\\local\\programs\\python\\python310\\lib\\site-packages (from pandas>=1.0->statsmodels) (2023.3)\n",
      "Requirement already satisfied: python-dateutil>=2.8.2 in c:\\users\\sergk\\appdata\\roaming\\python\\python310\\site-packages (from pandas>=1.0->statsmodels) (2.8.2)\n",
      "Requirement already satisfied: tzdata>=2022.1 in c:\\users\\sergk\\appdata\\local\\programs\\python\\python310\\lib\\site-packages (from pandas>=1.0->statsmodels) (2023.3)\n",
      "Requirement already satisfied: six in c:\\users\\sergk\\appdata\\roaming\\python\\python310\\site-packages (from patsy>=0.5.2->statsmodels) (1.16.0)\n"
     ]
    },
    {
     "name": "stderr",
     "output_type": "stream",
     "text": [
      "\n",
      "[notice] A new release of pip is available: 23.0.1 -> 23.2.1\n",
      "[notice] To update, run: python.exe -m pip install --upgrade pip\n"
     ]
    }
   ],
   "source": [
    "!pip install statsmodels"
   ]
  },
  {
   "cell_type": "code",
   "execution_count": 13,
   "metadata": {},
   "outputs": [],
   "source": [
    "petersburg  = [0.0974, 0.1352, 0.0817, 0.1016, 0.0968, 0.1064, 0.105]\n",
    "magadan = [0.1033, 0.0915, 0.0781, 0.0685, 0.0677, 0.0697, 0.0764,\n",
    "           0.0689]"
   ]
  },
  {
   "attachments": {},
   "cell_type": "markdown",
   "metadata": {},
   "source": [
    "Объедините два массива в DataFrame. \n"
   ]
  },
  {
   "cell_type": "code",
   "execution_count": 5,
   "metadata": {},
   "outputs": [
    {
     "data": {
      "text/html": [
       "<div>\n",
       "<style scoped>\n",
       "    .dataframe tbody tr th:only-of-type {\n",
       "        vertical-align: middle;\n",
       "    }\n",
       "\n",
       "    .dataframe tbody tr th {\n",
       "        vertical-align: top;\n",
       "    }\n",
       "\n",
       "    .dataframe thead th {\n",
       "        text-align: right;\n",
       "    }\n",
       "</style>\n",
       "<table border=\"1\" class=\"dataframe\">\n",
       "  <thead>\n",
       "    <tr style=\"text-align: right;\">\n",
       "      <th></th>\n",
       "      <th>1</th>\n",
       "      <th>2</th>\n",
       "      <th>3</th>\n",
       "      <th>4</th>\n",
       "      <th>5</th>\n",
       "      <th>6</th>\n",
       "      <th>7</th>\n",
       "      <th>8</th>\n",
       "    </tr>\n",
       "  </thead>\n",
       "  <tbody>\n",
       "    <tr>\n",
       "      <th>SPb</th>\n",
       "      <td>0.0974</td>\n",
       "      <td>0.1352</td>\n",
       "      <td>0.0817</td>\n",
       "      <td>0.1016</td>\n",
       "      <td>0.0968</td>\n",
       "      <td>0.1064</td>\n",
       "      <td>0.1050</td>\n",
       "      <td>NaN</td>\n",
       "    </tr>\n",
       "    <tr>\n",
       "      <th>M</th>\n",
       "      <td>0.1033</td>\n",
       "      <td>0.0915</td>\n",
       "      <td>0.0781</td>\n",
       "      <td>0.0685</td>\n",
       "      <td>0.0677</td>\n",
       "      <td>0.0697</td>\n",
       "      <td>0.0764</td>\n",
       "      <td>0.0689</td>\n",
       "    </tr>\n",
       "  </tbody>\n",
       "</table>\n",
       "</div>"
      ],
      "text/plain": [
       "          1       2       3       4       5       6       7       8\n",
       "SPb  0.0974  0.1352  0.0817  0.1016  0.0968  0.1064  0.1050     NaN\n",
       "M    0.1033  0.0915  0.0781  0.0685  0.0677  0.0697  0.0764  0.0689"
      ]
     },
     "metadata": {},
     "output_type": "display_data"
    }
   ],
   "source": [
    "df = pd.DataFrame(\n",
    "    data = [\n",
    "[0.0974, 0.1352, 0.0817, 0.1016, 0.0968, 0.1064, 0.105],\n",
    "[0.1033, 0.0915, 0.0781, 0.0685, 0.0677, 0.0697, 0.0764,\n",
    "           0.0689]\n",
    "    ],\n",
    "    columns=['1', '2', '3', '4', '5', '6', '7', '8'] ,\n",
    "    index= ['SPb', 'M']\n",
    "    \n",
    ")\n",
    "display(df)"
   ]
  },
  {
   "cell_type": "code",
   "execution_count": 19,
   "metadata": {},
   "outputs": [
    {
     "data": {
      "text/html": [
       "<div>\n",
       "<style scoped>\n",
       "    .dataframe tbody tr th:only-of-type {\n",
       "        vertical-align: middle;\n",
       "    }\n",
       "\n",
       "    .dataframe tbody tr th {\n",
       "        vertical-align: top;\n",
       "    }\n",
       "\n",
       "    .dataframe thead th {\n",
       "        text-align: right;\n",
       "    }\n",
       "</style>\n",
       "<table border=\"1\" class=\"dataframe\">\n",
       "  <thead>\n",
       "    <tr style=\"text-align: right;\">\n",
       "      <th></th>\n",
       "      <th>1</th>\n",
       "      <th>2</th>\n",
       "      <th>3</th>\n",
       "      <th>4</th>\n",
       "      <th>5</th>\n",
       "      <th>6</th>\n",
       "      <th>7</th>\n",
       "      <th>8</th>\n",
       "    </tr>\n",
       "  </thead>\n",
       "  <tbody>\n",
       "    <tr>\n",
       "      <th>SPb</th>\n",
       "      <td>0.0974</td>\n",
       "      <td>0.1352</td>\n",
       "      <td>0.0817</td>\n",
       "      <td>0.1016</td>\n",
       "      <td>0.0968</td>\n",
       "      <td>0.1064</td>\n",
       "      <td>0.1050</td>\n",
       "      <td>0.0689</td>\n",
       "    </tr>\n",
       "    <tr>\n",
       "      <th>M</th>\n",
       "      <td>0.1033</td>\n",
       "      <td>0.0915</td>\n",
       "      <td>0.0781</td>\n",
       "      <td>0.0685</td>\n",
       "      <td>0.0677</td>\n",
       "      <td>0.0697</td>\n",
       "      <td>0.0764</td>\n",
       "      <td>0.0689</td>\n",
       "    </tr>\n",
       "  </tbody>\n",
       "</table>\n",
       "</div>"
      ],
      "text/plain": [
       "          1       2       3       4       5       6       7       8\n",
       "SPb  0.0974  0.1352  0.0817  0.1016  0.0968  0.1064  0.1050  0.0689\n",
       "M    0.1033  0.0915  0.0781  0.0685  0.0677  0.0697  0.0764  0.0689"
      ]
     },
     "metadata": {},
     "output_type": "display_data"
    }
   ],
   "source": [
    "data=df.fillna(value={'8':df['8'].median()})\n",
    "display(data)"
   ]
  },
  {
   "cell_type": "markdown",
   "metadata": {},
   "source": [
    "# Проверка данных на нормальность"
   ]
  },
  {
   "cell_type": "code",
   "execution_count": 7,
   "metadata": {},
   "outputs": [],
   "source": [
    "H0 = 'Данные распределены нормально'\n",
    "Ha = 'Данные не распределены нормально (мы отвергаем H0)'"
   ]
  },
  {
   "cell_type": "code",
   "execution_count": 8,
   "metadata": {},
   "outputs": [],
   "source": [
    "alpha = 0.05   # уровень значимости"
   ]
  },
  {
   "cell_type": "code",
   "execution_count": 9,
   "metadata": {},
   "outputs": [],
   "source": [
    "from scipy.stats import shapiro"
   ]
  },
  {
   "cell_type": "code",
   "execution_count": 14,
   "metadata": {},
   "outputs": [
    {
     "name": "stdout",
     "output_type": "stream",
     "text": [
      "p=0.242\n",
      "Данные распределены нормально\n"
     ]
    }
   ],
   "source": [
    "_, p = shapiro(petersburg )\n",
    "print('p=%.3f' % p)\n",
    "\n",
    "# Интерпретация \n",
    "\n",
    "if p > alpha:\n",
    "\tprint(H0)\n",
    "else:\n",
    "\tprint(Ha)"
   ]
  },
  {
   "cell_type": "code",
   "execution_count": 15,
   "metadata": {},
   "outputs": [
    {
     "name": "stdout",
     "output_type": "stream",
     "text": [
      "p=0.036\n",
      "Данные не распределены нормально (мы отвергаем H0)\n"
     ]
    }
   ],
   "source": [
    "_, p = shapiro(magadan)\n",
    "print('p=%.3f' % p)\n",
    "\n",
    "# Интерпретация \n",
    "\n",
    "if p > alpha:\n",
    "\tprint(H0)\n",
    "else:\n",
    "\tprint(Ha)"
   ]
  },
  {
   "cell_type": "markdown",
   "metadata": {},
   "source": [
    "#### т.к. данные magadan не распределены нормально, в этом случае для data выбирается тест U-критерий Манна-Уитни (критерий суммы рангов Уилкоксона). "
   ]
  },
  {
   "cell_type": "code",
   "execution_count": 16,
   "metadata": {},
   "outputs": [],
   "source": [
    "import scipy.stats as stats"
   ]
  },
  {
   "cell_type": "markdown",
   "metadata": {},
   "source": [
    "## Сформулируем гипотезы:\n",
    "\n",
    "Нулевая гипотеза: распределения размеров мидий одинаковы.\n",
    "\n",
    "Альтернативная гипотеза: распределения размеров мидиий неодинаковы."
   ]
  },
  {
   "attachments": {},
   "cell_type": "markdown",
   "metadata": {},
   "source": [
    "Тест на корреляцию"
   ]
  },
  {
   "cell_type": "code",
   "execution_count": 17,
   "metadata": {},
   "outputs": [
    {
     "name": "stdout",
     "output_type": "stream",
     "text": [
      "p-value = 0.006\n",
      "p-значение меньше, чем заданный уровень значимости 0.05. Отвергаем нулевую гипотезу.\n"
     ]
    }
   ],
   "source": [
    "# задаём уровень значимости\n",
    "alpha = 0.05 \n",
    "# проводим тест\n",
    "_, p = stats.mannwhitneyu(petersburg, magadan)\n",
    "\n",
    "print('p-value = {:.3f}'.format(p))\n",
    "# интерпретируем результат\n",
    "if p <= alpha:\n",
    "    print('p-значение меньше, чем заданный уровень значимости {:.2f}. Отвергаем нулевую гипотезу.'.format(alpha))\n",
    "else:\n",
    "    print('p-значение больше, чем заданный уровень значимости {:.2f}. У нас нет оснований отвергнуть нулевую гипотезу.'.format(alpha))\n"
   ]
  },
  {
   "attachments": {},
   "cell_type": "markdown",
   "metadata": {},
   "source": [
    "Обоснуйте выбор теста на корреляцию. \n"
   ]
  },
  {
   "attachments": {},
   "cell_type": "markdown",
   "metadata": {},
   "source": [
    "Сделайте вывод по гипотезе.\n"
   ]
  },
  {
   "attachments": {},
   "cell_type": "markdown",
   "metadata": {},
   "source": [
    "Ответьте на вопрос: Какова разница в среднем размере мидии в зависимости от города-производителя\n"
   ]
  },
  {
   "cell_type": "code",
   "execution_count": null,
   "metadata": {},
   "outputs": [],
   "source": []
  },
  {
   "attachments": {},
   "cell_type": "markdown",
   "metadata": {},
   "source": [
    "Обоснуйте выбор теста. \n"
   ]
  },
  {
   "attachments": {},
   "cell_type": "markdown",
   "metadata": {},
   "source": [
    "Сделайте вывод по гипотезе."
   ]
  }
 ],
 "metadata": {
  "kernelspec": {
   "display_name": "Python 3",
   "language": "python",
   "name": "python3"
  },
  "language_info": {
   "codemirror_mode": {
    "name": "ipython",
    "version": 3
   },
   "file_extension": ".py",
   "mimetype": "text/x-python",
   "name": "python",
   "nbconvert_exporter": "python",
   "pygments_lexer": "ipython3",
   "version": "3.10.11"
  },
  "orig_nbformat": 4
 },
 "nbformat": 4,
 "nbformat_minor": 2
}
